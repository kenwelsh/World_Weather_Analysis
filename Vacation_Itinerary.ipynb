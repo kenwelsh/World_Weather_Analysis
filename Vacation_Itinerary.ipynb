{
 "cells": [
  {
   "cell_type": "code",
   "execution_count": 108,
   "metadata": {},
   "outputs": [],
   "source": [
    "# Import the dependencies.\n",
    "import pandas as pd\n",
    "import gmaps\n",
    "import gmaps.datasets\n",
    "import requests\n",
    "# Import the API key.\n",
    "from config import g_key"
   ]
  },
  {
   "cell_type": "code",
   "execution_count": 109,
   "metadata": {},
   "outputs": [],
   "source": [
    "# Configure gmaps to use Google API key.\n",
    "gmaps.configure(api_key=g_key)"
   ]
  },
  {
   "cell_type": "code",
   "execution_count": 110,
   "metadata": {},
   "outputs": [
    {
     "data": {
      "text/html": [
       "<div>\n",
       "<style scoped>\n",
       "    .dataframe tbody tr th:only-of-type {\n",
       "        vertical-align: middle;\n",
       "    }\n",
       "\n",
       "    .dataframe tbody tr th {\n",
       "        vertical-align: top;\n",
       "    }\n",
       "\n",
       "    .dataframe thead th {\n",
       "        text-align: right;\n",
       "    }\n",
       "</style>\n",
       "<table border=\"1\" class=\"dataframe\">\n",
       "  <thead>\n",
       "    <tr style=\"text-align: right;\">\n",
       "      <th></th>\n",
       "      <th>City_ID</th>\n",
       "      <th>City</th>\n",
       "      <th>Country</th>\n",
       "      <th>Max Temp</th>\n",
       "      <th>Weather Description</th>\n",
       "      <th>Lat</th>\n",
       "      <th>Lng</th>\n",
       "      <th>Hotel Name</th>\n",
       "    </tr>\n",
       "  </thead>\n",
       "  <tbody>\n",
       "    <tr>\n",
       "      <th>0</th>\n",
       "      <td>4</td>\n",
       "      <td>Carnarvon</td>\n",
       "      <td>AU</td>\n",
       "      <td>82.40</td>\n",
       "      <td>clear sky</td>\n",
       "      <td>-24.87</td>\n",
       "      <td>113.63</td>\n",
       "      <td>Hospitality Carnarvon</td>\n",
       "    </tr>\n",
       "    <tr>\n",
       "      <th>1</th>\n",
       "      <td>5</td>\n",
       "      <td>Rikitea</td>\n",
       "      <td>PF</td>\n",
       "      <td>79.86</td>\n",
       "      <td>few clouds</td>\n",
       "      <td>-23.12</td>\n",
       "      <td>-134.97</td>\n",
       "      <td>Pension Maro'i</td>\n",
       "    </tr>\n",
       "    <tr>\n",
       "      <th>2</th>\n",
       "      <td>11</td>\n",
       "      <td>Lorengau</td>\n",
       "      <td>PG</td>\n",
       "      <td>83.62</td>\n",
       "      <td>clear sky</td>\n",
       "      <td>-2.02</td>\n",
       "      <td>147.27</td>\n",
       "      <td>Lorengau Harbourside Hotel</td>\n",
       "    </tr>\n",
       "    <tr>\n",
       "      <th>3</th>\n",
       "      <td>19</td>\n",
       "      <td>Puerto Escondido</td>\n",
       "      <td>MX</td>\n",
       "      <td>82.40</td>\n",
       "      <td>clear sky</td>\n",
       "      <td>15.85</td>\n",
       "      <td>-97.07</td>\n",
       "      <td>Aldea del Bazar Hotel and Spa</td>\n",
       "    </tr>\n",
       "    <tr>\n",
       "      <th>4</th>\n",
       "      <td>21</td>\n",
       "      <td>Tamboril</td>\n",
       "      <td>DO</td>\n",
       "      <td>77.00</td>\n",
       "      <td>broken clouds</td>\n",
       "      <td>19.49</td>\n",
       "      <td>-70.61</td>\n",
       "      <td>Camp David Ranch Restaurant</td>\n",
       "    </tr>\n",
       "  </tbody>\n",
       "</table>\n",
       "</div>"
      ],
      "text/plain": [
       "   City_ID              City Country  Max Temp Weather Description    Lat  \\\n",
       "0        4         Carnarvon      AU     82.40           clear sky -24.87   \n",
       "1        5           Rikitea      PF     79.86          few clouds -23.12   \n",
       "2       11          Lorengau      PG     83.62           clear sky  -2.02   \n",
       "3       19  Puerto Escondido      MX     82.40           clear sky  15.85   \n",
       "4       21          Tamboril      DO     77.00       broken clouds  19.49   \n",
       "\n",
       "      Lng                     Hotel Name  \n",
       "0  113.63          Hospitality Carnarvon  \n",
       "1 -134.97                 Pension Maro'i  \n",
       "2  147.27     Lorengau Harbourside Hotel  \n",
       "3  -97.07  Aldea del Bazar Hotel and Spa  \n",
       "4  -70.61    Camp David Ranch Restaurant  "
      ]
     },
     "execution_count": 110,
     "metadata": {},
     "output_type": "execute_result"
    }
   ],
   "source": [
    "# Store the WeatherPy_vacation.csv file into a DataFrame.\n",
    "city_data_df = pd.read_csv(\"data/WeatherPy_vacation.csv\")\n",
    "city_data_df.head()"
   ]
  },
  {
   "cell_type": "markdown",
   "metadata": {},
   "source": [
    "#### Select 4 cities for itinerary and get the data"
   ]
  },
  {
   "cell_type": "code",
   "execution_count": 111,
   "metadata": {},
   "outputs": [],
   "source": [
    "# set 4 cities for itinerary.\n",
    "itinerary_country = \"MX\"\n",
    "city_first = \"Bucerias\"\n",
    "city_second = \"Ixtapa\"\n",
    "city_third = \"San Patricio\"\n",
    "city_fourth = \"Acapulco\""
   ]
  },
  {
   "cell_type": "code",
   "execution_count": 115,
   "metadata": {},
   "outputs": [
    {
     "data": {
      "text/html": [
       "<div>\n",
       "<style scoped>\n",
       "    .dataframe tbody tr th:only-of-type {\n",
       "        vertical-align: middle;\n",
       "    }\n",
       "\n",
       "    .dataframe tbody tr th {\n",
       "        vertical-align: top;\n",
       "    }\n",
       "\n",
       "    .dataframe thead th {\n",
       "        text-align: right;\n",
       "    }\n",
       "</style>\n",
       "<table border=\"1\" class=\"dataframe\">\n",
       "  <thead>\n",
       "    <tr style=\"text-align: right;\">\n",
       "      <th></th>\n",
       "      <th>City_ID</th>\n",
       "      <th>City</th>\n",
       "      <th>Country</th>\n",
       "      <th>Max Temp</th>\n",
       "      <th>Weather Description</th>\n",
       "      <th>Lat</th>\n",
       "      <th>Lng</th>\n",
       "      <th>Hotel Name</th>\n",
       "    </tr>\n",
       "  </thead>\n",
       "  <tbody>\n",
       "    <tr>\n",
       "      <th>108</th>\n",
       "      <td>510</td>\n",
       "      <td>Bucerias</td>\n",
       "      <td>MX</td>\n",
       "      <td>78.8</td>\n",
       "      <td>few clouds</td>\n",
       "      <td>20.75</td>\n",
       "      <td>-105.33</td>\n",
       "      <td>Villa del Palmar Flamingos Beach Resort &amp; Spa ...</td>\n",
       "    </tr>\n",
       "  </tbody>\n",
       "</table>\n",
       "</div>"
      ],
      "text/plain": [
       "     City_ID      City Country  Max Temp Weather Description    Lat     Lng  \\\n",
       "108      510  Bucerias      MX      78.8          few clouds  20.75 -105.33   \n",
       "\n",
       "                                            Hotel Name  \n",
       "108  Villa del Palmar Flamingos Beach Resort & Spa ...  "
      ]
     },
     "execution_count": 115,
     "metadata": {},
     "output_type": "execute_result"
    }
   ],
   "source": [
    "# Get the data for the first city.\n",
    "city_first_df = city_data_df[(city_data_df[\"City\"] == city_first) \n",
    "                             & (city_data_df[\"Country\"] == itinerary_country)]\n",
    "\n",
    "# create tuple for latitude and longitude\n",
    "location1 = (city_first_df[\"Lat\"].values[0], city_first_df[\"Lng\"].values[0])\n",
    "\n",
    "city_first_df"
   ]
  },
  {
   "cell_type": "code",
   "execution_count": 116,
   "metadata": {},
   "outputs": [
    {
     "data": {
      "text/html": [
       "<div>\n",
       "<style scoped>\n",
       "    .dataframe tbody tr th:only-of-type {\n",
       "        vertical-align: middle;\n",
       "    }\n",
       "\n",
       "    .dataframe tbody tr th {\n",
       "        vertical-align: top;\n",
       "    }\n",
       "\n",
       "    .dataframe thead th {\n",
       "        text-align: right;\n",
       "    }\n",
       "</style>\n",
       "<table border=\"1\" class=\"dataframe\">\n",
       "  <thead>\n",
       "    <tr style=\"text-align: right;\">\n",
       "      <th></th>\n",
       "      <th>City_ID</th>\n",
       "      <th>City</th>\n",
       "      <th>Country</th>\n",
       "      <th>Max Temp</th>\n",
       "      <th>Weather Description</th>\n",
       "      <th>Lat</th>\n",
       "      <th>Lng</th>\n",
       "      <th>Hotel Name</th>\n",
       "    </tr>\n",
       "  </thead>\n",
       "  <tbody>\n",
       "    <tr>\n",
       "      <th>30</th>\n",
       "      <td>170</td>\n",
       "      <td>Ixtapa</td>\n",
       "      <td>MX</td>\n",
       "      <td>78.8</td>\n",
       "      <td>few clouds</td>\n",
       "      <td>20.7</td>\n",
       "      <td>-105.2</td>\n",
       "      <td>Container Inn Puerto Vallarta</td>\n",
       "    </tr>\n",
       "  </tbody>\n",
       "</table>\n",
       "</div>"
      ],
      "text/plain": [
       "    City_ID    City Country  Max Temp Weather Description   Lat    Lng  \\\n",
       "30      170  Ixtapa      MX      78.8          few clouds  20.7 -105.2   \n",
       "\n",
       "                       Hotel Name  \n",
       "30  Container Inn Puerto Vallarta  "
      ]
     },
     "execution_count": 116,
     "metadata": {},
     "output_type": "execute_result"
    }
   ],
   "source": [
    "# Get the data for the second city.\n",
    "city_second_df = city_data_df[(city_data_df[\"City\"] == city_second) \n",
    "                             & (city_data_df[\"Country\"] == itinerary_country)]\n",
    "\n",
    "# create tuple for latitude and longitude\n",
    "location2 = (city_second_df[\"Lat\"].values[0], city_second_df[\"Lng\"].values[0])\n",
    "\n",
    "city_second_df"
   ]
  },
  {
   "cell_type": "code",
   "execution_count": 117,
   "metadata": {},
   "outputs": [
    {
     "data": {
      "text/html": [
       "<div>\n",
       "<style scoped>\n",
       "    .dataframe tbody tr th:only-of-type {\n",
       "        vertical-align: middle;\n",
       "    }\n",
       "\n",
       "    .dataframe tbody tr th {\n",
       "        vertical-align: top;\n",
       "    }\n",
       "\n",
       "    .dataframe thead th {\n",
       "        text-align: right;\n",
       "    }\n",
       "</style>\n",
       "<table border=\"1\" class=\"dataframe\">\n",
       "  <thead>\n",
       "    <tr style=\"text-align: right;\">\n",
       "      <th></th>\n",
       "      <th>City_ID</th>\n",
       "      <th>City</th>\n",
       "      <th>Country</th>\n",
       "      <th>Max Temp</th>\n",
       "      <th>Weather Description</th>\n",
       "      <th>Lat</th>\n",
       "      <th>Lng</th>\n",
       "      <th>Hotel Name</th>\n",
       "    </tr>\n",
       "  </thead>\n",
       "  <tbody>\n",
       "    <tr>\n",
       "      <th>110</th>\n",
       "      <td>519</td>\n",
       "      <td>San Patricio</td>\n",
       "      <td>MX</td>\n",
       "      <td>77.0</td>\n",
       "      <td>clear sky</td>\n",
       "      <td>19.22</td>\n",
       "      <td>-104.7</td>\n",
       "      <td>Hotel Cabo Blanco</td>\n",
       "    </tr>\n",
       "  </tbody>\n",
       "</table>\n",
       "</div>"
      ],
      "text/plain": [
       "     City_ID          City Country  Max Temp Weather Description    Lat  \\\n",
       "110      519  San Patricio      MX      77.0           clear sky  19.22   \n",
       "\n",
       "       Lng         Hotel Name  \n",
       "110 -104.7  Hotel Cabo Blanco  "
      ]
     },
     "execution_count": 117,
     "metadata": {},
     "output_type": "execute_result"
    }
   ],
   "source": [
    "# Get the data for the third city.\n",
    "city_third_df = city_data_df[(city_data_df[\"City\"] == city_third) \n",
    "                             & (city_data_df[\"Country\"] == itinerary_country)]\n",
    "\n",
    "# create tuple for latitude and longitude\n",
    "location3 = (city_third_df[\"Lat\"].values[0], city_third_df[\"Lng\"].values[0])\n",
    "\n",
    "city_third_df"
   ]
  },
  {
   "cell_type": "code",
   "execution_count": 118,
   "metadata": {},
   "outputs": [
    {
     "data": {
      "text/html": [
       "<div>\n",
       "<style scoped>\n",
       "    .dataframe tbody tr th:only-of-type {\n",
       "        vertical-align: middle;\n",
       "    }\n",
       "\n",
       "    .dataframe tbody tr th {\n",
       "        vertical-align: top;\n",
       "    }\n",
       "\n",
       "    .dataframe thead th {\n",
       "        text-align: right;\n",
       "    }\n",
       "</style>\n",
       "<table border=\"1\" class=\"dataframe\">\n",
       "  <thead>\n",
       "    <tr style=\"text-align: right;\">\n",
       "      <th></th>\n",
       "      <th>City_ID</th>\n",
       "      <th>City</th>\n",
       "      <th>Country</th>\n",
       "      <th>Max Temp</th>\n",
       "      <th>Weather Description</th>\n",
       "      <th>Lat</th>\n",
       "      <th>Lng</th>\n",
       "      <th>Hotel Name</th>\n",
       "    </tr>\n",
       "  </thead>\n",
       "  <tbody>\n",
       "    <tr>\n",
       "      <th>119</th>\n",
       "      <td>563</td>\n",
       "      <td>Acapulco</td>\n",
       "      <td>MX</td>\n",
       "      <td>80.6</td>\n",
       "      <td>clear sky</td>\n",
       "      <td>16.86</td>\n",
       "      <td>-99.89</td>\n",
       "      <td>Crowne Plaza Acapulco</td>\n",
       "    </tr>\n",
       "  </tbody>\n",
       "</table>\n",
       "</div>"
      ],
      "text/plain": [
       "     City_ID      City Country  Max Temp Weather Description    Lat    Lng  \\\n",
       "119      563  Acapulco      MX      80.6           clear sky  16.86 -99.89   \n",
       "\n",
       "                Hotel Name  \n",
       "119  Crowne Plaza Acapulco  "
      ]
     },
     "execution_count": 118,
     "metadata": {},
     "output_type": "execute_result"
    }
   ],
   "source": [
    "# Get the data for the fourth city.\n",
    "city_fourth_df = city_data_df[(city_data_df[\"City\"] == city_fourth) \n",
    "                             & (city_data_df[\"Country\"] == itinerary_country)]\n",
    "\n",
    "# create tuple for latitude and longitude\n",
    "location4 = (city_fourth_df[\"Lat\"].values[0], city_fourth_df[\"Lng\"].values[0])\n",
    "\n",
    "city_fourth_df"
   ]
  },
  {
   "cell_type": "markdown",
   "metadata": {},
   "source": [
    "#### Create a direction layer map for the itinerary"
   ]
  },
  {
   "cell_type": "code",
   "execution_count": 93,
   "metadata": {
    "scrolled": true
   },
   "outputs": [
    {
     "data": {
      "application/vnd.jupyter.widget-view+json": {
       "model_id": "52e35905c8ad499e8ed08aeb00f3b426",
       "version_major": 2,
       "version_minor": 0
      },
      "text/plain": [
       "Figure(layout=FigureLayout(height='420px'))"
      ]
     },
     "metadata": {},
     "output_type": "display_data"
    }
   ],
   "source": [
    "# create directions layer map.\n",
    "fig = gmaps.figure()\n",
    "city1_to_city4 = gmaps.directions_layer(location1, location4, waypoints=[location2,location3])\n",
    "fig.add_layer(city1_to_city4)\n",
    "fig\n"
   ]
  },
  {
   "cell_type": "markdown",
   "metadata": {},
   "source": [
    "#### Create a marker layer map with pop up for city and hotel information"
   ]
  },
  {
   "cell_type": "code",
   "execution_count": 57,
   "metadata": {},
   "outputs": [
    {
     "data": {
      "text/html": [
       "<div>\n",
       "<style scoped>\n",
       "    .dataframe tbody tr th:only-of-type {\n",
       "        vertical-align: middle;\n",
       "    }\n",
       "\n",
       "    .dataframe tbody tr th {\n",
       "        vertical-align: top;\n",
       "    }\n",
       "\n",
       "    .dataframe thead th {\n",
       "        text-align: right;\n",
       "    }\n",
       "</style>\n",
       "<table border=\"1\" class=\"dataframe\">\n",
       "  <thead>\n",
       "    <tr style=\"text-align: right;\">\n",
       "      <th></th>\n",
       "      <th>City_ID</th>\n",
       "      <th>City</th>\n",
       "      <th>Country</th>\n",
       "      <th>Max Temp</th>\n",
       "      <th>Weather Description</th>\n",
       "      <th>Lat</th>\n",
       "      <th>Lng</th>\n",
       "      <th>Hotel Name</th>\n",
       "    </tr>\n",
       "  </thead>\n",
       "  <tbody>\n",
       "    <tr>\n",
       "      <th>30</th>\n",
       "      <td>170</td>\n",
       "      <td>Ixtapa</td>\n",
       "      <td>MX</td>\n",
       "      <td>78.8</td>\n",
       "      <td>few clouds</td>\n",
       "      <td>20.70</td>\n",
       "      <td>-105.20</td>\n",
       "      <td>Container Inn Puerto Vallarta</td>\n",
       "    </tr>\n",
       "    <tr>\n",
       "      <th>108</th>\n",
       "      <td>510</td>\n",
       "      <td>Bucerias</td>\n",
       "      <td>MX</td>\n",
       "      <td>78.8</td>\n",
       "      <td>few clouds</td>\n",
       "      <td>20.75</td>\n",
       "      <td>-105.33</td>\n",
       "      <td>Villa del Palmar Flamingos Beach Resort &amp; Spa ...</td>\n",
       "    </tr>\n",
       "    <tr>\n",
       "      <th>110</th>\n",
       "      <td>519</td>\n",
       "      <td>San Patricio</td>\n",
       "      <td>MX</td>\n",
       "      <td>77.0</td>\n",
       "      <td>clear sky</td>\n",
       "      <td>19.22</td>\n",
       "      <td>-104.70</td>\n",
       "      <td>Hotel Cabo Blanco</td>\n",
       "    </tr>\n",
       "    <tr>\n",
       "      <th>119</th>\n",
       "      <td>563</td>\n",
       "      <td>Acapulco</td>\n",
       "      <td>MX</td>\n",
       "      <td>80.6</td>\n",
       "      <td>clear sky</td>\n",
       "      <td>16.86</td>\n",
       "      <td>-99.89</td>\n",
       "      <td>Crowne Plaza Acapulco</td>\n",
       "    </tr>\n",
       "  </tbody>\n",
       "</table>\n",
       "</div>"
      ],
      "text/plain": [
       "     City_ID          City Country  Max Temp Weather Description    Lat  \\\n",
       "30       170        Ixtapa      MX      78.8          few clouds  20.70   \n",
       "108      510      Bucerias      MX      78.8          few clouds  20.75   \n",
       "110      519  San Patricio      MX      77.0           clear sky  19.22   \n",
       "119      563      Acapulco      MX      80.6           clear sky  16.86   \n",
       "\n",
       "        Lng                                         Hotel Name  \n",
       "30  -105.20                      Container Inn Puerto Vallarta  \n",
       "108 -105.33  Villa del Palmar Flamingos Beach Resort & Spa ...  \n",
       "110 -104.70                                  Hotel Cabo Blanco  \n",
       "119  -99.89                              Crowne Plaza Acapulco  "
      ]
     },
     "execution_count": 57,
     "metadata": {},
     "output_type": "execute_result"
    }
   ],
   "source": [
    "# create a dataframe for all cities in itinerary.\n",
    "city_itinerary_df = city_data_df[(city_data_df[\"Country\"] == itinerary_country) & \n",
    "                                 ((city_data_df[\"City\"] == city_first) |\n",
    "                                  (city_data_df[\"City\"] == city_second) |\n",
    "                                  (city_data_df[\"City\"] == city_third) |\n",
    "                                  (city_data_df[\"City\"] == city_fourth))]\n",
    "\n",
    "city_itinerary_df"
   ]
  },
  {
   "cell_type": "code",
   "execution_count": 58,
   "metadata": {},
   "outputs": [],
   "source": [
    "# create the info box template for the marker pop box.\n",
    "info_box_template = \"\"\"\n",
    "<dl>\n",
    "<dt>Hotel Name</dt><dd>{Hotel Name}</dd>\n",
    "<dt>City</dt><dd>{City}</dd>\n",
    "<dt>Country</dt><dd>{Country}</dd>\n",
    "<dt>Current Weather</dt><dd>{Weather Description} and {Max Temp} °F</dd>\n",
    "</dl>\n",
    "\"\"\"\n",
    "# Store the DataFrame Row.\n",
    "hotel_info = [info_box_template.format(**row) for index, row in city_itinerary_df.iterrows()]"
   ]
  },
  {
   "cell_type": "code",
   "execution_count": 106,
   "metadata": {},
   "outputs": [
    {
     "data": {
      "application/vnd.jupyter.widget-view+json": {
       "model_id": "22b06ada2f3b4d07be56c8968eedee0e",
       "version_major": 2,
       "version_minor": 0
      },
      "text/plain": [
       "Figure(layout=FigureLayout(height='420px'))"
      ]
     },
     "metadata": {},
     "output_type": "display_data"
    }
   ],
   "source": [
    "# Add a marker layer map for the vacation spots and a pop-up marker for each city.\n",
    "locations = city_itinerary_df[[\"Lat\", \"Lng\"]]\n",
    "fig = gmaps.figure(center=(20.0, -100.0), zoom_level=6)\n",
    "marker_layer = gmaps.marker_layer(locations, info_box_content=hotel_info)\n",
    "fig.add_layer(marker_layer)\n",
    "\n",
    "# Call the figure to plot the data.\n",
    "fig"
   ]
  },
  {
   "cell_type": "code",
   "execution_count": null,
   "metadata": {},
   "outputs": [],
   "source": []
  }
 ],
 "metadata": {
  "kernelspec": {
   "display_name": "PythonData",
   "language": "python",
   "name": "pythondata"
  },
  "language_info": {
   "codemirror_mode": {
    "name": "ipython",
    "version": 3
   },
   "file_extension": ".py",
   "mimetype": "text/x-python",
   "name": "python",
   "nbconvert_exporter": "python",
   "pygments_lexer": "ipython3",
   "version": "3.7.6"
  }
 },
 "nbformat": 4,
 "nbformat_minor": 4
}
